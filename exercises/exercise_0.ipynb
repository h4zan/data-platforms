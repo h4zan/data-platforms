{
 "cells": [
  {
   "cell_type": "code",
   "execution_count": null,
   "metadata": {},
   "outputs": [],
   "source": [
    "source_path = input(\"Enter source file path\")\n",
    "destination_path = input(\"Enter destination file path\")\n",
    "print(f\"{'source:':<20}{source_path}\")\n",
    "print(f\"{'destination':<20}{destination_path}\")\n"
   ]
  },
  {
   "cell_type": "code",
   "execution_count": null,
   "metadata": {},
   "outputs": [],
   "source": [
    "record = dict(id=101,name=\"Erika\",is_active=True,age=45)\n",
    "record, type(record)"
   ]
  },
  {
   "cell_type": "code",
   "execution_count": null,
   "metadata": {},
   "outputs": [],
   "source": [
    "schema = {\"id\":int,\"name\":str, \"is_active\":bool,\"age\":int}\n",
    "schema.keys()"
   ]
  },
  {
   "cell_type": "code",
   "execution_count": null,
   "metadata": {},
   "outputs": [],
   "source": [
    "record[\"id\"], schema[\"id\"], record[\"is_active\"], schema[\"is_active\"]"
   ]
  },
  {
   "cell_type": "code",
   "execution_count": null,
   "metadata": {},
   "outputs": [],
   "source": [
    "type(record[\"id\"]) == schema[\"id\"], type(record[\"id\"]) == schema[\"is_active\"]"
   ]
  },
  {
   "cell_type": "code",
   "execution_count": null,
   "metadata": {},
   "outputs": [],
   "source": [
    "isinstance(5,str)"
   ]
  },
  {
   "cell_type": "code",
   "execution_count": null,
   "metadata": {},
   "outputs": [],
   "source": [
    "validation_list =[]\n",
    "for key,data_type in schema.items():\n",
    "    # print(record[key],data_type)\n",
    "    validation_list.append(isinstance(record[key],data_type))\n",
    "\n",
    "all(validation_list)"
   ]
  },
  {
   "cell_type": "code",
   "execution_count": null,
   "metadata": {},
   "outputs": [],
   "source": [
    "all([True,False]), any([True,False])"
   ]
  },
  {
   "cell_type": "code",
   "execution_count": null,
   "metadata": {},
   "outputs": [],
   "source": [
    "all([isinstance(record[key], data_type) for key,data_type in schema.items()])"
   ]
  },
  {
   "cell_type": "code",
   "execution_count": 22,
   "metadata": {},
   "outputs": [],
   "source": [
    "example_list = list(range(10))\n",
    "example_list_none=(list(range(9)) +[None])\n",
    "example_list_large = list(range(2910))"
   ]
  },
  {
   "cell_type": "code",
   "execution_count": null,
   "metadata": {},
   "outputs": [],
   "source": [
    "len(example_list) == 10"
   ]
  },
  {
   "cell_type": "code",
   "execution_count": null,
   "metadata": {},
   "outputs": [],
   "source": [
    "None in example_list, None in example_list_none"
   ]
  },
  {
   "cell_type": "code",
   "execution_count": null,
   "metadata": {},
   "outputs": [],
   "source": [
    "def quality_check(list_):\n",
    "    if len(list_) != 10 or None in list_:\n",
    "        raise ValueError(\n",
    "            f\"\"\"Your list must have 10 elements and not contain None.\n",
    "                Lenght of your list was {len(list_)}. None in list: {None in list_:} \n",
    "                \"\"\"\n",
    "        )\n",
    "    print(\"Your list contains no Nones and have lenght 10\")\n",
    "try:\n",
    "    quality_check(example_list)\n",
    "except ValueError as err:\n",
    "    print(err)\n",
    "\n"
   ]
  },
  {
   "cell_type": "code",
   "execution_count": null,
   "metadata": {},
   "outputs": [],
   "source": [
    "try:\n",
    "    quality_check(example_list_none)\n",
    "except ValueError as err:\n",
    "    print(err)"
   ]
  }
 ],
 "metadata": {
  "kernelspec": {
   "display_name": ".venv",
   "language": "python",
   "name": "python3"
  },
  "language_info": {
   "codemirror_mode": {
    "name": "ipython",
    "version": 3
   },
   "file_extension": ".py",
   "mimetype": "text/x-python",
   "name": "python",
   "nbconvert_exporter": "python",
   "pygments_lexer": "ipython3",
   "version": "3.12.5"
  }
 },
 "nbformat": 4,
 "nbformat_minor": 2
}
